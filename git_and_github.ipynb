{
 "cells": [
  {
   "cell_type": "markdown",
   "id": "f26f5420",
   "metadata": {
    "slideshow": {
     "slide_type": "slide"
    }
   },
   "source": [
    "## UBC Intro to Machine Learning\n",
    "\n",
    "###  Git and Github\n",
    "Instructor: Socorro Dominguez  \n",
    "February 19, 2022"
   ]
  },
  {
   "cell_type": "markdown",
   "id": "36d2ba72",
   "metadata": {},
   "source": [
    "Add a line"
   ]
  },
  {
   "cell_type": "markdown",
   "id": "740bbcda",
   "metadata": {
    "slideshow": {
     "slide_type": "slide"
    }
   },
   "source": [
    "**Agenda:**\n",
    "\n",
    "* What is Version Control? \n",
    "* What is Git and Github?\n",
    "* Creating a Github account\n",
    "* Setting up git in the computer\n",
    "* What is a repository?\n",
    "* Creating a repository (directly on Github)\n",
    "* Cloning a repository"
   ]
  },
  {
   "cell_type": "markdown",
   "id": "fa5ecb81",
   "metadata": {
    "slideshow": {
     "slide_type": "slide"
    }
   },
   "source": [
    "# What is Version Control?\n",
    "\n",
    "- Practice of tracking and managing changes to software code. \n",
    "- Version Control systems are software tools that help software teams manage changes to source code over time. \n",
    "- VC systems help software teams work faster and smarter. They help reduce development time and increase successful deployments.\n",
    "- VC keeps track of every modification to the code in a special kind of database. \n",
    "    - If a mistake is made, developers can turn back the clock and compare earlier versions of the code to help fix the mistake while minimizing disruption to all team members."
   ]
  },
  {
   "cell_type": "markdown",
   "id": "cacdd9aa",
   "metadata": {
    "slideshow": {
     "slide_type": "slide"
    }
   },
   "source": [
    "# Version Control Motivation\n",
    "\n",
    "![](https://github.com/UBC-MDS/DSCI_521_platforms-dsci/raw/275d8fd548028d6d37c8284a672a535b86ce5a2e/lectures/01_lecture-intro-MDS-tools/phd101212s.png)\n",
    "\n",
    "*source: “Piled Higher and Deeper” by Jorge Cham, http://www.phdcomics.com*"
   ]
  },
  {
   "cell_type": "markdown",
   "id": "85535116",
   "metadata": {
    "slideshow": {
     "slide_type": "slide"
    }
   },
   "source": [
    "**Additional reasons to learn VC with Git**\n",
    "- Github (website) can act as a back-up for files housed there\n",
    "- Github can be used to host websites/blogs\n",
    "- Github has a fantastic search functionality\n",
    "- And Git is the language we have to speak to communicate with Github."
   ]
  },
  {
   "cell_type": "markdown",
   "id": "9a779c7e",
   "metadata": {
    "slideshow": {
     "slide_type": "slide"
    }
   },
   "source": [
    "# What is GitHub?\n",
    "\n",
    "- Web-based platform for the dissemination of free- and open-source software.\n",
    "\n",
    "- You are already using Github as that is where all the course's material is! Even your assignments! \n",
    "\n",
    "- GitHub provides the following:\n",
    "    - Version control for free- and open-source software and other digital assets\n",
    "    - Project discussion forums\n",
    "    - DevOps to facilitate building and testing software\n",
    "    - Bug reporting, patching, and tracking\n",
    "    - Documentation hosting\n",
    "    - An environment that fosters collaboration\n",
    "\n",
    "- You can use GitHub for any digital asset. However, the most common use case is for individuals or organizations to house repositories of free- and open-source software.\n"
   ]
  },
  {
   "cell_type": "markdown",
   "id": "33c3728b",
   "metadata": {
    "slideshow": {
     "slide_type": "slide"
    }
   },
   "source": [
    "# Register a GitHub account\n",
    "\n",
    "Register an account with GitHub. It’s free!\n",
    "\n",
    "[GitHub](https://github.com)\n",
    "\n",
    "### Username advice\n",
    "\n",
    "- Choose wisely.\n",
    "\n",
    "- A few tips, you can take into consideration:\n",
    "\n",
    "    - Incorporate your actual name! People like to know who they’re dealing with. \n",
    "    - Reuse your username from other contexts, e.g., Twitter or Slack. \n",
    "    - Pick a username you will be comfortable revealing to your future boss.\n",
    "    - Shorter is better than longer.\n",
    "    - Don’t highlight your current university, employer, or place of residence.\n",
    "    - Lower case ideally."
   ]
  },
  {
   "cell_type": "markdown",
   "id": "4beeb40c",
   "metadata": {
    "slideshow": {
     "slide_type": "slide"
    }
   },
   "source": [
    "# Installing Git\n",
    "\n",
    "Follow the instructions:\n",
    "- For [Windows](https://ubc-mds.github.io/resources_pages/install_ds_stack_windows/#git-bash-and-windows-terminal) users.\n",
    "\n",
    "- For Mac users:\n",
    "    1. [Bash Shell](https://ubc-mds.github.io/resources_pages/install_ds_stack_mac/#bash-shell)\n",
    "    2. [Git](https://ubc-mds.github.io/resources_pages/install_ds_stack_mac/#git)\n"
   ]
  },
  {
   "cell_type": "markdown",
   "id": "3c66b212",
   "metadata": {
    "slideshow": {
     "slide_type": "slide"
    }
   },
   "source": [
    "# Setting Up Git\n",
    "\n",
    "Once you got your `shell` working, do the following:\n",
    "\n",
    "~~~shell\n",
    "\n",
    "git config --global user.name 'Jane Doe'\n",
    "git config --global user.email 'jane@example.com'\n",
    "git config --global --list\n",
    "\n",
    "~~~"
   ]
  },
  {
   "cell_type": "markdown",
   "id": "ce58a215",
   "metadata": {
    "slideshow": {
     "slide_type": "slide"
    }
   },
   "source": [
    "# Setting Up Git 2\n",
    "* What user name should you give to Git? \n",
    "    - It does not have to be your GitHub user name, although it can be. \n",
    "    - Another good option is your actual first name and last name. \n",
    "    - Your commits will be labelled with this user name, so make it informative to potential collaborators and future you.\n",
    "\n",
    "* What email should you give to Git? \n",
    "    - This must be the email associated with your GitHub account.\n",
    "\n",
    "- These commands return nothing. You can check that Git understood by typing\n",
    "\n",
    "~~~shell\n",
    "git config --global --list\n",
    "~~~\n"
   ]
  },
  {
   "cell_type": "markdown",
   "id": "9658e852",
   "metadata": {
    "slideshow": {
     "slide_type": "slide"
    }
   },
   "source": [
    "# Connecting from Git to GitHub\n",
    "\n",
    "Now we need to make sure that the connections between tools on you rcomputer and between your computer and GitHub work.\n",
    "\n",
    "- Unfortunately, we have to front-load a rather fiddly task, which is to decide whether to communicate with GitHub via HTTPS or SSH and setup some credentials accordingly. \n",
    "\n",
    "- You have 2 choices: getting a personal token or set up SSH keys.\n",
    "\n",
    "- Once we have our credentials sorted out, in Connect to GitHub, we use Git in the shell to make sure you can clone a repo from GitHub and establish two-way communications, i.e. pull and push. \n",
    "\n",
    "Third verb: clone"
   ]
  },
  {
   "cell_type": "markdown",
   "id": "5a18d1da",
   "metadata": {
    "slideshow": {
     "slide_type": "slide"
    }
   },
   "source": [
    "## HTTPS\n",
    "\n",
    "- When we interact with a remote Git server, such as GitHub, we have to include credentials in the request. \n",
    "- This proves we are a specific GitHub user.\n",
    "\n",
    "- It would make sense to use your GitHub password. But you can't. You need to create a Token.\n",
    "\n",
    "1.  Go to https://github.com/settings/tokens and click `“Generate token”`.\n",
    "2. Look over the scopes; select “repo”, “user”, and “workflow”.\n",
    "3. Copy the generated PAT to your clipboard/notes/somewhere.\n",
    "4. Provide this PAT next time a Git operation asks for your password."
   ]
  },
  {
   "cell_type": "markdown",
   "id": "9284267c",
   "metadata": {
    "slideshow": {
     "slide_type": "slide"
    }
   },
   "source": [
    "## Generate a personal access token (PAT)\n",
    "\n",
    "On github.com, assuming you’re signed in, you can manage your PATs from https://github.com/settings/tokens\n",
    "\n",
    "![](https://happygitwithr.com/img/new-personal-access-token-screenshot.png)\n",
    "\n",
    "\n",
    "**Treat this PAT like a password! Do not ever hard-wire your PAT into your code!**"
   ]
  },
  {
   "cell_type": "markdown",
   "id": "f1b25d0a",
   "metadata": {
    "slideshow": {
     "slide_type": "slide"
    }
   },
   "source": [
    "## Setting the PAT in your local computer\n",
    "\n",
    "The credential helpers used by Git take advantage of official OS-provided credential stores, where possible, such as macOS Keychain and Windows Credential Manager.\n",
    "\n",
    "Here’s a command to reveal the current credential helper:\n",
    "\n",
    "macOS\n",
    "\n",
    "~~~shell\n",
    "git config --show-origin --get credential.helper\n",
    "file:/Users/jenny/.gitconfig    osxkeychain\n",
    "~~~\n",
    "\n",
    "Windows\n",
    "\n",
    "~~~shell\n",
    " git config --show-origin --get credential.helper\n",
    " file:C:/Program Files/Git/mingw64/etc/gitconfig manager\n",
    "\n",
    "~~~\n",
    "\n",
    "Store your PAT in your credential manager."
   ]
  },
  {
   "cell_type": "markdown",
   "id": "8be3c37f",
   "metadata": {
    "slideshow": {
     "slide_type": "slide"
    }
   },
   "source": [
    "## Setting the PAT in your local computer 2 Opt A\n",
    "\n",
    "- Using a token on the command line\n",
    "    - Once you have a token, enter it instead of your password when performing Git operations over HTTPS.\n",
    "\n",
    "For example, on the command line you would enter the following:\n",
    "\n",
    "~~~output\n",
    "$ git clone https://github.com/username/repo.git\n",
    "Username: your_username\n",
    "Password: your_token\n",
    "\n",
    "~~~"
   ]
  },
  {
   "cell_type": "markdown",
   "id": "0cda91c6",
   "metadata": {
    "slideshow": {
     "slide_type": "slide"
    }
   },
   "source": [
    "## Setting the PAT in your local computer 2 Opt B\n",
    "1. Click on the Spotlight icon (magnifying glass) on the right side of the menu bar. Type Keychain access then press the Enter key to launch the app.\n",
    "\n",
    "![](https://docs.github.com/assets/cb-273689/images/help/setup/keychain-access.png)\n",
    "\n",
    "2. In Keychain Access, search for github.com.\n",
    "3. Find the \"internet password\" entry for github.com.\n",
    "4. Edit or delete the entry accordingly."
   ]
  },
  {
   "cell_type": "markdown",
   "id": "238440d9",
   "metadata": {
    "slideshow": {
     "slide_type": "slide"
    }
   },
   "source": [
    "## What is a Repo\n",
    "\n",
    "> A repository is usually used to organize a single project. Repositories can contain folders and files, images, videos, spreadsheets, and data sets – anything your project needs. Often, repositories include a README file, a file with information about your project. GitHub makes it easy to add one at the same time you create your new repository. It also offers other common options such as a license file.\n",
    "\n",
    "[Template of Repo](https://github.com/throughput-ec/Template)\n",
    "\n",
    "Each GitHub repository:\n",
    "- Has an owner, which could be an individual or an organization. \n",
    "- Can be set to public or private, determining who can see and interact with it. \n",
    "\n",
    "- While a repository can simply store files, GitHub is designed with collaboration in mind. Three key collaborative tools in GitHub are:\n",
    "    - Issues: report a bug, plan improvements, or provide feedback to others working on the repository.\n",
    "    - Discussions: post ideas or other conversations that are not as specific or actionable as an Issue.\n",
    "    - Pull requests: Allows a user to propose a change to any of the files within a repository."
   ]
  },
  {
   "cell_type": "markdown",
   "id": "02c95051",
   "metadata": {
    "slideshow": {
     "slide_type": "slide"
    }
   },
   "source": [
    "# Connect to GitHub\n",
    "\n",
    "1. Go to https://github.com and make sure you are logged in.\n",
    "\n",
    "2. Near “Repositories”, click the big green “New” button. Or, if you are on your own profile page, click on “Repositories”, then click the big green “New” button.\n",
    "\n",
    "3. How to fill this in:\n",
    "    - Repository template: No template.\n",
    "    - Repository name: `myrepo` (or whatever you wish).\n",
    "    - Description: “Repository for testing my Git/GitHub setup” or similar. It will appear in the README.\n",
    "    - Public.\n",
    "    - Initialize this repository with: Add a README file.\n",
    "    - Click the big green button that says “Create repository”.\n",
    "4. You will be taken to your repository"
   ]
  },
  {
   "cell_type": "markdown",
   "id": "531689ba",
   "metadata": {
    "slideshow": {
     "slide_type": "slide"
    }
   },
   "source": [
    "## Clone your Repo\n",
    "\n",
    "- Click the big green button that says “<> Code”.\n",
    "- Copy a clone URL to your clipboard. Copy the HTTPS URL.\n",
    "\n",
    "- Navigate to a desired directory. `pwd` displays the working directory. `cd` is the command to change directory. \n",
    "\n",
    "- Clone `myrepo` from GitHub to your computer. Use the URL we just copied from GitHub. \n",
    "    - This URL has your GitHub username and the name of your practice repo. \n",
    "    - If your shell cooperates, you should be able to paste the whole https://.... bit that we copied above. \n",
    "    - Some shells are not clipboard aware. In that sad case, you must type it. Accurately.\n",
    "\n",
    "~~~ shell\n",
    "git clone https://github.com/YOUR-USERNAME/YOUR-REPOSITORY.git\n",
    "~~~\n",
    "\n",
    "This should look something like this:\n",
    "\n",
    "\n",
    "~~~shell\n",
    "~/tmp % git clone https://github.com/jennybc/myrepo.git\n",
    "Cloning into 'myrepo'...\n",
    "remote: Enumerating objects: 3, done.\n",
    "remote: Counting objects: 100% (3/3), done.\n",
    "remote: Total 3 (delta 0), reused 0 (delta 0), pack-reused 0\n",
    "Receiving objects: 100% (3/3), done.\n",
    "~~~"
   ]
  },
  {
   "cell_type": "markdown",
   "id": "badbe740",
   "metadata": {
    "slideshow": {
     "slide_type": "slide"
    }
   },
   "source": [
    "## Modify your Repo\n",
    "\n",
    "- Make a local change, commit, and push. \n",
    "    - e.g., open the README. Add a new line and save it.\n",
    "\n",
    "- Verify that Git notices the change using your terminal:\n",
    "\n",
    "~~~shell\n",
    "git status\n",
    "~~~\n",
    "\n",
    "\n",
    "- This should look something like this:\n",
    "\n",
    "~~~shell\n",
    "~/tmp/myrepo % echo \"A line I wrote on my local computer\" >> README.md\n",
    "\n",
    "~/tmp/myrepo % git status\n",
    "On branch main\n",
    "Your branch is up to date with 'origin/main'.\n",
    "\n",
    "Changes not staged for commit:\n",
    "  (use \"git add <file>...\" to update what will be committed)\n",
    "  (use \"git restore <file>...\" to discard changes in working directory)\n",
    "        modified:   README.md\n",
    "\n",
    "no changes added to commit (use \"git add\" and/or \"git commit -a\")\n",
    "~~~"
   ]
  },
  {
   "cell_type": "markdown",
   "id": "e2d43fc0",
   "metadata": {
    "slideshow": {
     "slide_type": "slide"
    }
   },
   "source": [
    "# Stage, commit and push to your remote repo\n",
    "\n",
    "- Stage (“add”) and commit this change and then push to your remote repo on GitHub.\n",
    "\n",
    "- If you set your credentials earlier, you might not be prompted to give them again.\n",
    "\n",
    "- **IMPORTANT** Since you are a new GitHub user and using HTTPS, you might be challenged for your username and password. \n",
    "    - Many general Git tools still frame the authentication task with this vocabulary. **By all means**, provide your GitHub username and the **PAT** you created earlier as the password. AGAIN: Do not enter your web password. Enter your PAT.\n",
    "\n",
    "~~~shell\n",
    "\n",
    "git add README.md\n",
    "git commit -m \"A commit from my local computer\"\n",
    "git push\n",
    "\n",
    "~~~"
   ]
  },
  {
   "cell_type": "markdown",
   "id": "afa2a5d6",
   "metadata": {
    "slideshow": {
     "slide_type": "slide"
    }
   },
   "source": [
    "# Stage, commit and push to your remote repo 2\n",
    "\n",
    "This should produce the following output\n",
    "~~~shell\n",
    "~/tmp/myrepo % git add README.md\n",
    "\n",
    "~/tmp/myrepo % git commit -m \"A commit from my local computer\"\n",
    "[main e92528c] A commit from my local computer\n",
    " 1 file changed, 1 insertion(+)\n",
    " \n",
    "~/tmp/myrepo % git push\n",
    "Enumerating objects: 5, done.\n",
    "Counting objects: 100% (5/5), done.\n",
    "Delta compression using up to 12 threads\n",
    "Compressing objects: 100% (2/2), done.\n",
    "Writing objects: 100% (3/3), 327 bytes | 327.00 KiB/s, done.\n",
    "Total 3 (delta 0), reused 0 (delta 0), pack-reused 0\n",
    "To https://github.com/jennybc/myrepo.git\n",
    "   31dcaef..e92528c  main -> main\n",
    "~~~"
   ]
  },
  {
   "cell_type": "markdown",
   "id": "37395840",
   "metadata": {
    "slideshow": {
     "slide_type": "slide"
    }
   },
   "source": [
    "## Confirm the local change propagated to the GitHub remote\n",
    "\n",
    "1. Go back to the browser where you have your new GitHub repo.\n",
    "\n",
    "2. Refresh.\n",
    "\n",
    "3. You should see the new “A line I wrote on my local computer” in the README.\n",
    "\n",
    "4. If you click on “commits,” you should see one with the message “A commit from my local computer.”\n",
    "\n",
    "5. If you have made it this far, you are ready to start using Git and GitHub."
   ]
  },
  {
   "cell_type": "markdown",
   "id": "14b9d877",
   "metadata": {
    "slideshow": {
     "slide_type": "slide"
    }
   },
   "source": [
    "## Exploring GitHub for Code / Data Reusability\n",
    "\n",
    "Some academics like using GitHub for storing and working with numerical data. It has the advantage of being stored in a repository alongside the code that is used for analysis, making a research project into a single, neatly packaged reproducible object.\n",
    "\n",
    "Some drawbacks to using GitHub to store your data:\n",
    "- It doesn’t specialize in one kind of data, making it difficult to find data to reuse. \n",
    "- Doesn’t work well for large data stores (often described as big data)\n",
    "\n",
    "Now that we discussed APIs and Github, you can set up a way to run into GitHub's API and look only certain keywords and even exploring if those repos have csv files."
   ]
  },
  {
   "cell_type": "markdown",
   "id": "a0c080c5",
   "metadata": {
    "slideshow": {
     "slide_type": "slide"
    }
   },
   "source": [
    "# Efforts from others\n",
    "\n",
    "[The Throughput Cookbook](https://throughputdb.com/)"
   ]
  },
  {
   "cell_type": "markdown",
   "id": "8edc40a1",
   "metadata": {
    "slideshow": {
     "slide_type": "slide"
    }
   },
   "source": [
    "## Other Public Databases / Datasets / Places to Find Data\n",
    "\n",
    "https://www.kaggle.com/competitions\n",
    "\n",
    "\n",
    "https://www.ebsco.com/academic-libraries/research-databases-archives\n",
    "\n",
    "https://www150.statcan.gc.ca/n1/en/type/data\n",
    "\n",
    "https://github.com/awesomedata/awesome-public-datasets"
   ]
  },
  {
   "cell_type": "code",
   "execution_count": null,
   "id": "282985c6",
   "metadata": {},
   "outputs": [],
   "source": []
  }
 ],
 "metadata": {
  "celltoolbar": "Slideshow",
  "kernelspec": {
   "display_name": "Python 3",
   "language": "python",
   "name": "python3"
  },
  "language_info": {
   "codemirror_mode": {
    "name": "ipython",
    "version": 3
   },
   "file_extension": ".py",
   "mimetype": "text/x-python",
   "name": "python",
   "nbconvert_exporter": "python",
   "pygments_lexer": "ipython3",
   "version": "3.7.4"
  }
 },
 "nbformat": 4,
 "nbformat_minor": 5
}
